{
  "nbformat": 4,
  "nbformat_minor": 0,
  "metadata": {
    "colab": {
      "provenance": []
    },
    "kernelspec": {
      "name": "python3",
      "display_name": "Python 3"
    },
    "language_info": {
      "name": "python"
    }
  },
  "cells": [
    {
      "cell_type": "markdown",
      "source": [
        "#DataSturucture_Queue 문제 3\n",
        "\n",
        "LinkedQueue 타입의 객체 a의 내용을 그대로 또 다른 LinkedQueue 타입의 객체 b로 복사하는 코드를 작성하시오. (a의 레퍼런스 값을 b로 복사해 두 변수가 같은 레퍼런스를 가져 내용이 같아지게 하라는 것이 아니라 내용이 같아지도록 복사를 요구하는 것이다.)"
      ],
      "metadata": {
        "id": "iF5fsyOCApDJ"
      }
    },
    {
      "cell_type": "code",
      "source": [
        "class Node:\n",
        "    def __init__(self, item, link=None):\n",
        "        self.item = item\n",
        "        self.link = link\n",
        "\n",
        "class LinkedQueue:\n",
        "    def __init__(self):\n",
        "        self.front = None\n",
        "        self.rear = None\n",
        "\n",
        "    def isEmpty(self):\n",
        "        return self.front is None\n",
        "\n",
        "    def enqueue(self, item):\n",
        "        newNode = Node(item)\n",
        "        if self.isEmpty():\n",
        "            self.front = self.rear = newNode\n",
        "        else:\n",
        "            self.rear.link = newNode\n",
        "            self.rear = newNode\n",
        "\n",
        "    def dequeue(self):\n",
        "        if self.isEmpty():\n",
        "            raise Exception(\"Queue is empty\")\n",
        "        item = self.front.item\n",
        "        self.front = self.front.link\n",
        "        if self.front is None:\n",
        "            self.rear = None\n",
        "        return item\n",
        "\n",
        "    def peek(self):\n",
        "        if self.isEmpty():\n",
        "            raise Exception(\"Queue is empty\")\n",
        "        return self.front.item\n",
        "\n",
        "    def __iter__(self):\n",
        "        current = self.front\n",
        "        while current:\n",
        "            yield current.item\n",
        "            current = current.link\n",
        "\n",
        "def copy_queue(a):\n",
        "    temp = []\n",
        "\n",
        "    while not a.isEmpty():\n",
        "        item = a.dequeue()\n",
        "        temp.append(item)\n",
        "        LinkedQueue().enqueue(item)\n",
        "\n",
        "    for item in temp:\n",
        "        a.enqueue(item)\n",
        "\n",
        "    return LinkedQueue()"
      ],
      "metadata": {
        "id": "YMJRBFAg21an"
      },
      "execution_count": 10,
      "outputs": []
    }
  ]
}