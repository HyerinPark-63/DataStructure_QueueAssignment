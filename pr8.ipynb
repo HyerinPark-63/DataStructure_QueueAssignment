{
  "nbformat": 4,
  "nbformat_minor": 0,
  "metadata": {
    "colab": {
      "provenance": []
    },
    "kernelspec": {
      "name": "python3",
      "display_name": "Python 3"
    },
    "language_info": {
      "name": "python"
    }
  },
  "cells": [
    {
      "cell_type": "markdown",
      "source": [
        "#DataSturucture_Queue 문제 8\n",
        "\n",
        "다음은 클래스 ListQueue의 파이썬코드다. 이를 06번 문제의 자료구조 Deque를 구현하는 클래스 Deque로 바꾸어 보시오. 필요한 메서드를 추가하시오."
      ],
      "metadata": {
        "id": "0ZJO57rNKjz3"
      }
    },
    {
      "cell_type": "code",
      "source": [
        "class Deque:\n",
        "    def __init__(self):\n",
        "        self.__deque = []\n",
        "\n",
        "    def addFront(self, x):\n",
        "        self.__deque.insert(0, x)\n",
        "\n",
        "    def addRear(self, x):\n",
        "        self.__deque.append(x)\n",
        "\n",
        "    def deleteFront(self):\n",
        "        if self.isEmpty():\n",
        "            return None\n",
        "        return self.__deque.pop(0)\n",
        "\n",
        "    def deleteRear(self):\n",
        "        if self.isEmpty():\n",
        "            return None\n",
        "        return self.__deque.pop()\n",
        "\n",
        "    def getFront(self):\n",
        "        if self.isEmpty():\n",
        "            return None\n",
        "        return self.__deque[0]\n",
        "\n",
        "    def getRear(self):\n",
        "        if self.isEmpty():\n",
        "            return None\n",
        "        return self.__deque[-1]\n",
        "\n",
        "    def isEmpty(self) -> bool:\n",
        "        return len(self.__deque) == 0\n",
        "\n",
        "    def clear(self):\n",
        "        self.__deque.clear()\n",
        "\n",
        "    def printDeque(self):\n",
        "        print(\"Deque from front: \", end=' ')\n",
        "        for item in self.__deque:\n",
        "            print(item, end=' ')\n",
        "        print()\n"
      ],
      "metadata": {
        "id": "mHcmqd8IM2hO"
      },
      "execution_count": null,
      "outputs": []
    }
  ]
}