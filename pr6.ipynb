{
  "nbformat": 4,
  "nbformat_minor": 0,
  "metadata": {
    "colab": {
      "provenance": []
    },
    "kernelspec": {
      "name": "python3",
      "display_name": "Python 3"
    },
    "language_info": {
      "name": "python"
    }
  },
  "cells": [
    {
      "cell_type": "markdown",
      "source": [
        "#DataSturucture_Queue 문제 6\n",
        "\n",
        "이 장에서 배운 큐에서 enqueue()는 항상 큐의 맨 뒤에, dequeue()는 항상 큐의 맨 앞에서 이루어진다. Deque는 이의 변형으로 enqueue()와 dequeue()가 큐의 맨 앞과 맨뒤에서 다 가능하다. 코드[7-13]의 클래스 환경에서 이를 가장 효율적으로 구현한다고 하자. 큐의 사이즈가 n일때, enqueue()와 dequeue()의 수행 시간은 각각 어떻게 되겠는가?\n",
        "\n",
        "---\n",
        "\n"
      ],
      "metadata": {
        "id": "iF5fsyOCApDJ"
      }
    },
    {
      "cell_type": "code",
      "source": [
        "from DS.list.circularLinkedList import circularLinkedList\n",
        "\n",
        "class LinkedQueue :\n",
        "  def __init__(self) :\n",
        "    self.__queue = CircularLinkedList()\n",
        "\n",
        "  def enqueue(self, x) :\n",
        "    self.__queue.append(x)\n",
        "\n",
        "  def dequeue(self) :\n",
        "    return self.__queue.pop(0)\n",
        "\n",
        "  def front(self) :\n",
        "    return self.__queue.get(0)\n",
        "\n",
        "  def isEmpty(self) -> bool :\n",
        "    return self.__queue.isEmpty()\n",
        "\n",
        "  def dequeueAll(self) :\n",
        "    return self.__queue.clear()\n",
        "\n",
        "  def printQueue(self) :\n",
        "    print(\"Queue from front : \", end = ' ')\n",
        "    for i in range(self.__queue.size()) :\n",
        "      print(self.__queue.get(1),  end = ' ')\n",
        "    print()"
      ],
      "metadata": {
        "id": "3Y7aAqYkGRtV"
      },
      "execution_count": null,
      "outputs": []
    },
    {
      "cell_type": "markdown",
      "source": [
        "#enqueue()수행시간\n",
        "\n",
        "O(1)\n",
        "\n",
        "#dequeue()수행시간\n",
        "\n",
        "O(1)\n",
        "\n",
        "> 인용구 추가\n",
        "\n"
      ],
      "metadata": {
        "id": "toECTQNkIfT-"
      }
    }
  ]
}