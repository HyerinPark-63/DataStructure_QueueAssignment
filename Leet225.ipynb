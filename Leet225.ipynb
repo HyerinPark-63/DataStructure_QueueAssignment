{
  "nbformat": 4,
  "nbformat_minor": 0,
  "metadata": {
    "colab": {
      "provenance": []
    },
    "kernelspec": {
      "name": "python3",
      "display_name": "Python 3"
    },
    "language_info": {
      "name": "python"
    }
  },
  "cells": [
    {
      "cell_type": "code",
      "execution_count": 1,
      "metadata": {
        "id": "tpbJQ8Ic2bsG"
      },
      "outputs": [],
      "source": [
        "class MyStack(object):\n",
        "\n",
        "    def __init__(self):\n",
        "        self.q1 = deque()\n",
        "        self.q2 = deque()\n",
        "\n",
        "    def push(self, x):\n",
        "        self.q2.append(x)\n",
        "        while self.q1:\n",
        "            self.q2.append(self.q1.popleft())\n",
        "        self.q1, self.q2 = self.q2, self.q1\n",
        "\n",
        "    def pop(self):\n",
        "        return self.q1.popleft()\n",
        "\n",
        "    def top(self):\n",
        "        return self.q1[0]\n",
        "\n",
        "    def empty(self):\n",
        "        return not self.q1"
      ]
    },
    {
      "cell_type": "markdown",
      "source": [],
      "metadata": {
        "id": "yoKGroX22enM"
      }
    }
  ]
}