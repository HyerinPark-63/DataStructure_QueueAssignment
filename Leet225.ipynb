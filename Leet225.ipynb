{
  "nbformat": 4,
  "nbformat_minor": 0,
  "metadata": {
    "colab": {
      "provenance": []
    },
    "kernelspec": {
      "name": "python3",
      "display_name": "Python 3"
    },
    "language_info": {
      "name": "python"
    }
  },
  "cells": [
    {
      "cell_type": "markdown",
      "source": [
        "#LeetCode 225 Implement Queue Using Stacks\n",
        "\n",
        "> 인용구 추가\n",
        "\n",
        "> 인용구 추가\n",
        "\n",
        "\n",
        "\n"
      ],
      "metadata": {
        "id": "pWYB4NYS4aGK"
      }
    },
    {
      "cell_type": "code",
      "source": [
        "class MyStack(object):\n",
        "\n",
        "    def __init__(self):\n",
        "        self.q1 = deque()\n",
        "        self.q2 = deque()\n",
        "\n",
        "    def push(self, x):\n",
        "        self.q2.append(x)\n",
        "        while self.q1:\n",
        "            self.q2.append(self.q1.popleft())\n",
        "        self.q1, self.q2 = self.q2, self.q1\n",
        "\n",
        "    def pop(self):\n",
        "        return self.q1.popleft()\n",
        "\n",
        "    def top(self):\n",
        "        return self.q1[0]\n",
        "\n",
        "    def empty(self):\n",
        "        return not self.q1\n",
        ""
      ],
      "metadata": {
        "id": "YMJRBFAg21an"
      },
      "execution_count": 3,
      "outputs": []
    }
  ]
}