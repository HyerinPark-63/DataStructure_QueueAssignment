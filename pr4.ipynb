{
  "nbformat": 4,
  "nbformat_minor": 0,
  "metadata": {
    "colab": {
      "provenance": []
    },
    "kernelspec": {
      "name": "python3",
      "display_name": "Python 3"
    },
    "language_info": {
      "name": "python"
    }
  },
  "cells": [
    {
      "cell_type": "markdown",
      "source": [
        "#DataSturucture_Queue 문제 4\n"
      ],
      "metadata": {
        "id": "iF5fsyOCApDJ"
      }
    },
    {
      "cell_type": "markdown",
      "source": [
        "스택 push"
      ],
      "metadata": {
        "id": "PXSBZxHUFeF8"
      }
    },
    {
      "cell_type": "code",
      "source": [
        "def push(x):\n",
        "    q1.enqueue(x)"
      ],
      "metadata": {
        "id": "YMJRBFAg21an"
      },
      "execution_count": 11,
      "outputs": []
    },
    {
      "cell_type": "markdown",
      "source": [
        "스택 pop"
      ],
      "metadata": {
        "id": "9QJXj3mjFgb2"
      }
    },
    {
      "cell_type": "code",
      "source": [
        "def pop():\n",
        "    while q1.size() > 1:\n",
        "        q2.enqueue(q1.dequeue())\n",
        "\n",
        "    top = q1.dequeue()\n",
        "\n",
        "    q1, q2 = q2, q1\n",
        "\n",
        "    return top"
      ],
      "metadata": {
        "id": "TjACtd91Ff4C"
      },
      "execution_count": 12,
      "outputs": []
    }
  ]
}