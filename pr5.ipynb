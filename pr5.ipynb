{
  "nbformat": 4,
  "nbformat_minor": 0,
  "metadata": {
    "colab": {
      "provenance": []
    },
    "kernelspec": {
      "name": "python3",
      "display_name": "Python 3"
    },
    "language_info": {
      "name": "python"
    }
  },
  "cells": [
    {
      "cell_type": "markdown",
      "source": [
        "#DataSturucture_Queue 문제 5\n",
        "\n",
        "\n",
        "---\n",
        "\n"
      ],
      "metadata": {
        "id": "iF5fsyOCApDJ"
      }
    },
    {
      "cell_type": "markdown",
      "source": [
        "큐 enqueue()"
      ],
      "metadata": {
        "id": "PXSBZxHUFeF8"
      }
    },
    {
      "cell_type": "code",
      "source": [
        "def enqueue(x):\n",
        "    while not s1.isEmpty():\n",
        "        s2.push(s1.pop())\n",
        "\n",
        "    s1.push(x)\n",
        "\n",
        "    while not s2.isEmpty():\n",
        "        s1.push(s2.pop())\n"
      ],
      "metadata": {
        "id": "YMJRBFAg21an"
      },
      "execution_count": 11,
      "outputs": []
    },
    {
      "cell_type": "markdown",
      "source": [
        "큐 dequeue()"
      ],
      "metadata": {
        "id": "9QJXj3mjFgb2"
      }
    },
    {
      "cell_type": "code",
      "source": [
        "def dequeue():\n",
        "    if s1.isEmpty():\n",
        "        raise Exception(\"Queue is empty\")\n",
        "    return s1.pop()\n"
      ],
      "metadata": {
        "id": "TjACtd91Ff4C"
      },
      "execution_count": 12,
      "outputs": []
    }
  ]
}