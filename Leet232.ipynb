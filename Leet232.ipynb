{
  "nbformat": 4,
  "nbformat_minor": 0,
  "metadata": {
    "colab": {
      "provenance": []
    },
    "kernelspec": {
      "name": "python3",
      "display_name": "Python 3"
    },
    "language_info": {
      "name": "python"
    }
  },
  "cells": [
    {
      "cell_type": "markdown",
      "source": [
        "#LeetCode 232 Implement Queue Using Stacks"
      ],
      "metadata": {
        "id": "pWYB4NYS4aGK"
      }
    },
    {
      "cell_type": "code",
      "source": [
        "class MyQueue(object):\n",
        "\n",
        "    def __init__(self):\n",
        "        self.stack_in = []\n",
        "        self.stack_out = []\n",
        "\n",
        "    def push(self, x):\n",
        "        self.stack_in.append(x)\n",
        "\n",
        "    def pop(self):\n",
        "        self._transfer()\n",
        "        return self.stack_out.pop()\n",
        "\n",
        "    def peek(self):\n",
        "        self._transfer()\n",
        "        return self.stack_out[-1]\n",
        "\n",
        "    def empty(self):\n",
        "        return not self.stack_in and not self.stack_out\n",
        "\n",
        "    def _transfer(self):\n",
        "        if not self.stack_out:\n",
        "            while self.stack_in:\n",
        "                self.stack_out.append(self.stack_in.pop())"
      ],
      "metadata": {
        "id": "YMJRBFAg21an"
      },
      "execution_count": 2,
      "outputs": []
    }
  ]
}