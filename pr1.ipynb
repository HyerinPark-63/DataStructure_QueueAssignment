{
  "nbformat": 4,
  "nbformat_minor": 0,
  "metadata": {
    "colab": {
      "provenance": []
    },
    "kernelspec": {
      "name": "python3",
      "display_name": "Python 3"
    },
    "language_info": {
      "name": "python"
    }
  },
  "cells": [
    {
      "cell_type": "markdown",
      "source": [
        "#DataSturucture_Queue 문제 1\n",
        "\n",
        "본문에서 파이썬 내장 리스트를 사용하는 큐를 구현할 때 리스트의 맨 앞을 큐의 front로, 리스트의 맨 끝을 큐의 tail로 간주했다. 반대로 리스트의 맨 끝을 큐의 front로, 리스트의 맨 앞을 큐의 tail로 간주하여 다음 listQueue.py 코드를 바꾸어보시오."
      ],
      "metadata": {
        "id": "iF5fsyOCApDJ"
      }
    },
    {
      "cell_type": "code",
      "source": [
        "class ListQueue:\n",
        "    def __init__(self):\n",
        "        self.__queue = []\n",
        "\n",
        "    def enqueue(self, x):\n",
        "        self.__queue.insert(0, x)\n",
        "\n",
        "    def dequeue(self):\n",
        "        return self.__queue.pop()\n",
        "\n",
        "    def front(self):\n",
        "        return self.__queue[-1]\n",
        "\n",
        "    def isEmpty(self) -> bool:\n",
        "        return len(self.__queue) == 0\n",
        "\n",
        "    def dequeueAll(self):\n",
        "        self.__queue.clear()\n",
        ""
      ],
      "metadata": {
        "id": "YMJRBFAg21an"
      },
      "execution_count": 3,
      "outputs": []
    }
  ]
}