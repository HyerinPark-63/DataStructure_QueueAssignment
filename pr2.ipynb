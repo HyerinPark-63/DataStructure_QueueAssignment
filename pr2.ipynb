{
  "nbformat": 4,
  "nbformat_minor": 0,
  "metadata": {
    "colab": {
      "provenance": []
    },
    "kernelspec": {
      "name": "python3",
      "display_name": "Python 3"
    },
    "language_info": {
      "name": "python"
    }
  },
  "cells": [
    {
      "cell_type": "markdown",
      "source": [
        "#DataSturucture_Queue 문제 2\n",
        "\n",
        "입력으로 들어온 문자열이 다음 집합의 원소인지 체크하는 코드를 큐를 이용해서 작성하시오."
      ],
      "metadata": {
        "id": "iF5fsyOCApDJ"
      }
    },
    {
      "cell_type": "code",
      "source": [
        "from collections import deque\n",
        "\n",
        "def check_w_dollar_w(s):\n",
        "    q = deque()\n",
        "    i = 0\n",
        "    n = len(s)\n",
        "\n",
        "    while i < n and s[i] != '$':\n",
        "        q.append(s[i])\n",
        "        i += 1\n",
        "\n",
        "    if i == n or s[i] != '$':\n",
        "        return False\n",
        "\n",
        "    while i < n:\n",
        "        if not q or s[i] != q.popleft():\n",
        "            return False\n",
        "        i += 1\n",
        "\n",
        "    return len(q) == 0\n",
        "\n",
        "s = input(\"\")\n",
        "\n",
        "if check_w_dollar_w(s):\n",
        "    print(\"{ w$w | w : 문자열 }\")\n",
        "else:\n",
        "    print(\"{ w$w | w : 문자열 }이 아님\")"
      ],
      "metadata": {
        "id": "YMJRBFAg21an"
      },
      "execution_count": null,
      "outputs": []
    }
  ]
}