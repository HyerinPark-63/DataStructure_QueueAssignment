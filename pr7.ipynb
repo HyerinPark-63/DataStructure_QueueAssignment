{
  "nbformat": 4,
  "nbformat_minor": 0,
  "metadata": {
    "colab": {
      "provenance": []
    },
    "kernelspec": {
      "name": "python3",
      "display_name": "Python 3"
    },
    "language_info": {
      "name": "python"
    }
  },
  "cells": [
    {
      "cell_type": "markdown",
      "source": [
        "#DataSturucture_Queue 문제 7\n",
        "\n",
        "위의 문제에서 deque를 원형 연결 리스트가 아닌 LinkedListBasic 객체를 사용한다면 enqueue()와 dequeue()의 수행 시간은 각각 어떻게 되겠는가?\n",
        "\n",
        "\n"
      ],
      "metadata": {
        "id": "iF5fsyOCApDJ"
      }
    },
    {
      "cell_type": "markdown",
      "source": [
        "#enqueue()수행시간\n",
        "\n",
        "enqueueFront()\tO(1)\n",
        "enqueueRear()\tO(n)\n",
        "\n",
        "#dequeue()수행시간\n",
        "\n",
        "dequeueFront()\tO(1)\n",
        "dequeueRear()\tO(n\n"
      ],
      "metadata": {
        "id": "toECTQNkIfT-"
      }
    }
  ]
}