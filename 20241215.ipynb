{
  "nbformat": 4,
  "nbformat_minor": 0,
  "metadata": {
    "colab": {
      "provenance": []
    },
    "kernelspec": {
      "name": "python3",
      "display_name": "Python 3"
    },
    "language_info": {
      "name": "python"
    }
  },
  "cells": [
    {
      "cell_type": "markdown",
      "source": [
        "#1 생일이 느린 순서로 10명 출력하는 코드"
      ],
      "metadata": {
        "id": "mYkr8kXO3YcL"
      }
    },
    {
      "cell_type": "code",
      "execution_count": null,
      "metadata": {
        "id": "ErCJpK5b3Ljz"
      },
      "outputs": [],
      "source": [
        "import csv\n",
        "from datetime import datetime\n",
        "\n",
        "class Heap:\n",
        "    def __init__(self, list=None):\n",
        "        self.__A = list if list is not None else []\n",
        "\n",
        "    def insert(self, x):\n",
        "        self.__A.append(x)\n",
        "        self.__percolateUp(len(self.__A) - 1)\n",
        "\n",
        "    def __percolateUp(self, i):\n",
        "        parent = (i - 1) // 2\n",
        "        if i > 0 and self.__A[i][0] > self.__A[parent][0]:\n",
        "            self.__A[i], self.__A[parent] = self.__A[parent], self.__A[i]\n",
        "            self.__percolateUp(parent)\n",
        "\n",
        "    def deleteMax(self):\n",
        "        if not self.isEmpty():\n",
        "            max_elem = self.__A[0]\n",
        "            self.__A[0] = self.__A[-1]\n",
        "            self.__A.pop()\n",
        "            self.__percolateDown(0)\n",
        "            return max_elem\n",
        "        else:\n",
        "            return None\n",
        "\n",
        "    def __percolateDown(self, i):\n",
        "        child = 2 * i + 1\n",
        "        right = 2 * i + 2\n",
        "        if child <= len(self.__A) - 1:\n",
        "            if right <= len(self.__A) - 1 and self.__A[child][0] < self.__A[right][0]:\n",
        "                child = right\n",
        "            if self.__A[i][0] < self.__A[child][0]:\n",
        "                self.__A[i], self.__A[child] = self.__A[child], self.__A[i]\n",
        "                self.__percolateDown(child)\n",
        "\n",
        "    def max(self):\n",
        "        return self.__A[0] if not self.isEmpty() else None\n",
        "\n",
        "    def size(self):\n",
        "        return len(self.__A)\n",
        "\n",
        "    def isEmpty(self):\n",
        "        return self.size() == 0\n",
        "\n",
        "    def clear(self):\n",
        "        self.__A = []\n",
        "\n",
        "def is_valid_date(date_str):\n",
        "    try:\n",
        "        datetime.strptime(date_str, \"%Y%m%d\")\n",
        "        return True\n",
        "    except ValueError:\n",
        "        return False\n",
        "\n",
        "file_path = \"birthdays.csv\"\n",
        "\n",
        "heap = Heap()\n",
        "\n",
        "with open(file_path, newline='', encoding='utf-8') as csvfile:\n",
        "    reader = csv.DictReader(csvfile)\n",
        "    for row in reader:\n",
        "        name = row['name']\n",
        "        birthday = row['birthday']\n",
        "        if birthday.isdigit() and is_valid_date(birthday):\n",
        "            heap.insert((int(birthday), name))\n",
        "\n",
        "print(\"생일이 느린 친구 Top 10:\")\n",
        "for i in range(min(10, heap.size())):\n",
        "    date_int, name = heap.deleteMax()\n",
        "    date_str = datetime.strptime(str(date_int), \"%Y%m%d\").strftime(\"%Y-%m-%d\")\n",
        "    print(f\"{i+1}. {name} - {date_str}\")"
      ]
    },
    {
      "cell_type": "markdown",
      "source": [
        "#1-1 출력 결과"
      ],
      "metadata": {
        "id": "kbyKuhBP59aS"
      }
    },
    {
      "cell_type": "code",
      "source": [
        "생일이 느린 친구 Top 10:\n",
        "1. user68 - 2005-12-30\n",
        "2. user92 - 2005-12-25\n",
        "3. user2 - 2005-12-14\n",
        "4. user16 - 2005-12-02\n",
        "5. user91 - 2005-11-12\n",
        "6. user59 - 2005-11-02\n",
        "7. user30 - 2005-10-31\n",
        "8. user94 - 2005-10-28\n",
        "9. user61 - 2005-10-24\n",
        "10. user33 - 2005-10-19"
      ],
      "metadata": {
        "id": "Gk6lHWgQ6BIp"
      },
      "execution_count": null,
      "outputs": []
    },
    {
      "cell_type": "markdown",
      "source": [
        "#2 조원의 생일만 출력하는 코드"
      ],
      "metadata": {
        "id": "uHAeKwIP3mXQ"
      }
    },
    {
      "cell_type": "code",
      "source": [
        "import csv\n",
        "from datetime import datetime\n",
        "\n",
        "class Heap:\n",
        "    def __init__(self, list=None):\n",
        "        self.__A = list if list is not None else []\n",
        "\n",
        "    def insert(self, x):\n",
        "        self.__A.append(x)\n",
        "        self.__percolateUp(len(self.__A) - 1)\n",
        "\n",
        "    def __percolateUp(self, i):\n",
        "        parent = (i - 1) // 2\n",
        "        if i > 0 and self.__A[i][0] > self.__A[parent][0]:\n",
        "            self.__A[i], self.__A[parent] = self.__A[parent], self.__A[i]\n",
        "            self.__percolateUp(parent)\n",
        "\n",
        "    def deleteMax(self):\n",
        "        if not self.isEmpty():\n",
        "            max_elem = self.__A[0]\n",
        "            self.__A[0] = self.__A[-1]\n",
        "            self.__A.pop()\n",
        "            self.__percolateDown(0)\n",
        "            return max_elem\n",
        "        return None\n",
        "\n",
        "    def __percolateDown(self, i):\n",
        "        child = 2 * i + 1\n",
        "        right = 2 * i + 2\n",
        "        if child <= len(self.__A) - 1:\n",
        "            if right <= len(self.__A) - 1 and self.__A[child][0] < self.__A[right][0]:\n",
        "                child = right\n",
        "            if self.__A[i][0] < self.__A[child][0]:\n",
        "                self.__A[i], self.__A[child] = self.__A[child], self.__A[i]\n",
        "                self.__percolateDown(child)\n",
        "\n",
        "    def isEmpty(self):\n",
        "        return len(self.__A) == 0\n",
        "\n",
        "def is_valid_date(date_str):\n",
        "    try:\n",
        "        datetime.strptime(date_str, \"%Y%m%d\")\n",
        "        return True\n",
        "    except ValueError:\n",
        "        return False\n",
        "\n",
        "team_members = [f\"user{i}\" for i in range(52, 62)]\n",
        "\n",
        "file_path = \"birthdays.csv\"\n",
        "\n",
        "heap = Heap()\n",
        "\n",
        "with open(file_path, newline='', encoding='utf-8') as csvfile:\n",
        "    reader = csv.DictReader(csvfile)\n",
        "    for row in reader:\n",
        "        name = row['name']\n",
        "        birthday = row['birthday']\n",
        "        if name in team_members and birthday.isdigit() and is_valid_date(birthday):\n",
        "            heap.insert((int(birthday), name))\n",
        "\n",
        "print(\"조원들의 생일 :\")\n",
        "rank = 1\n",
        "while not heap.isEmpty():\n",
        "    date_int, name = heap.deleteMax()\n",
        "    date_str = datetime.strptime(str(date_int), \"%Y%m%d\").strftime(\"%Y-%m-%d\")\n",
        "    print(f\"{rank}. {name} - {date_str}\")\n",
        "    rank += 1"
      ],
      "metadata": {
        "id": "WzNDCJkV3mx_"
      },
      "execution_count": null,
      "outputs": []
    },
    {
      "cell_type": "markdown",
      "source": [
        "#2-1 출력결과"
      ],
      "metadata": {
        "id": "bjrm9zfm6CHU"
      }
    },
    {
      "cell_type": "code",
      "source": [
        "조원들의 생일 (느린 순):\n",
        "1. user59 - 2005-11-02\n",
        "2. user61 - 2005-10-24\n",
        "3. user53 - 2005-02-14\n",
        "4. user60 - 2004-08-02\n",
        "5. user56 - 2004-07-28\n",
        "6. user55 - 2004-05-14\n",
        "7. user54 - 2004-04-28\n",
        "8. user58 - 2003-06-03\n",
        "9. user57 - 2000-05-07"
      ],
      "metadata": {
        "id": "DRRBAQxN6Dks"
      },
      "execution_count": null,
      "outputs": []
    },
    {
      "cell_type": "markdown",
      "source": [
        "#우선순위 큐 문제 1"
      ],
      "metadata": {
        "id": "4C1VMSNI5JHg"
      }
    },
    {
      "cell_type": "markdown",
      "source": [
        "더 얕은 깊이의 노드가 더 깊은 노드보다 작을 수 있다.\n",
        "하지만 힙 성질(부모 ≥ 자식)을 만족시켜야 한다."
      ],
      "metadata": {
        "id": "ESutRmc57jte"
      }
    },
    {
      "cell_type": "markdown",
      "source": [
        "#우선순위 큐 문제 2"
      ],
      "metadata": {
        "id": "qtg3Vt9I5KCe"
      }
    },
    {
      "cell_type": "markdown",
      "source": [
        "A[n-1]는 트리의 가장 마지막에 추가된 원소이다. 힙 성질을 깨지 않는 한도 내에 아무 값이나 존재할 수 있으므로 항상 작은 값을 가지진 않는다."
      ],
      "metadata": {
        "id": "IgkchGYv78Ip"
      }
    },
    {
      "cell_type": "markdown",
      "source": [
        "#우선순위 큐 문제 3"
      ],
      "metadata": {
        "id": "LiWFex7y5Rjv"
      }
    },
    {
      "cell_type": "markdown",
      "source": [
        "n/2개이다."
      ],
      "metadata": {
        "id": "11qdux808Y-E"
      }
    },
    {
      "cell_type": "markdown",
      "source": [
        "#우선순위 큐 문제 4"
      ],
      "metadata": {
        "id": "8j61KZWk5TlN"
      }
    },
    {
      "cell_type": "markdown",
      "source": [
        "최악의 경우 시간 복잡도: Θ(log n)\n",
        "\n",
        "최선의 경우 시간 복잡도: Θ(1)"
      ],
      "metadata": {
        "id": "S3KU2uSi8zpX"
      }
    },
    {
      "cell_type": "markdown",
      "source": [
        "#우선순위 큐 문제 5"
      ],
      "metadata": {
        "id": "h_9FWIAZ5VDy"
      }
    },
    {
      "cell_type": "markdown",
      "source": [
        "쉬운 일이다."
      ],
      "metadata": {
        "id": "YcOSYjM09m3o"
      }
    },
    {
      "cell_type": "markdown",
      "source": [
        "#우선순위 큐 문제 6"
      ],
      "metadata": {
        "id": "ZlmVxxhW69TQ"
      }
    },
    {
      "cell_type": "markdown",
      "source": [
        "스며내리기를 반복하는 알고리즘은 시간복잡도가 Θ(n)으로 나타난다.\n",
        "\n",
        "스며올리기를 반복하는 알고리즘은 시간복잡도가\tΘ(n log n)으로 나타난다.\n",
        "\n",
        "결론적으로 스며올리기 방식이 훨씬 비효율적이라고 말할 수 있다."
      ],
      "metadata": {
        "id": "_CyCJwBU9w7q"
      }
    },
    {
      "cell_type": "markdown",
      "source": [
        "#우선순위 큐 문제 7"
      ],
      "metadata": {
        "id": "1_OyPU7P7AGJ"
      }
    },
    {
      "cell_type": "markdown",
      "source": [
        "최대 힙에서 임의의 원소의 값이 증가했다면, 힙 성질이 깨질 수 있는 유일한 방향은 위쪽이다.\n",
        "그러므로 스며올리기 연산을 통해 힙을 수선해야한다.\n",
        "\n",
        "1. i번 인덱스의 값이 증가함\n",
        "\n",
        "2. 부모 인덱스 p = (i - 1) // 2를 구함\n",
        "\n",
        "3. A[i] > A[p]이면 부모와 교환\n",
        "\n",
        "4. i ← p로 갱신하고 위 과정을 반복\n",
        "\n",
        "5. 루트에 도달하거나 더 이상 부모보다 크지 않으면 멈춤\n",
        "\n",
        "힙의 높이는 log n이고, 시간복잡도는 Θ(log n)이다.\n"
      ],
      "metadata": {
        "id": "-W9tgSFx-QIF"
      }
    },
    {
      "cell_type": "markdown",
      "source": [
        "#LeetCode 703. Kth Largest Element in a Stream"
      ],
      "metadata": {
        "id": "o7qtpSR7_xhK"
      }
    },
    {
      "cell_type": "code",
      "source": [
        "import heapq\n",
        "\n",
        "class KthLargest:\n",
        "\n",
        "    def __init__(self, k: int, nums: list[int]):\n",
        "        self.k = k\n",
        "        self.heap = nums\n",
        "        heapq.heapify(self.heap)\n",
        "\n",
        "        while len(self.heap) > k:\n",
        "            heapq.heappop(self.heap)\n",
        "\n",
        "    def add(self, val: int) -> int:\n",
        "        if len(self.heap) < self.k:\n",
        "            heapq.heappush(self.heap, val)\n",
        "        elif val > self.heap[0]:\n",
        "            heapq.heappushpop(self.heap, val)\n",
        "        return self.heap[0]\n"
      ],
      "metadata": {
        "id": "LSMhTH7t_x-6"
      },
      "execution_count": null,
      "outputs": []
    }
  ]
}