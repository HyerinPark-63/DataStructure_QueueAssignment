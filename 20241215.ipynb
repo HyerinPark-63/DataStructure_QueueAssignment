{
  "nbformat": 4,
  "nbformat_minor": 0,
  "metadata": {
    "colab": {
      "provenance": []
    },
    "kernelspec": {
      "name": "python3",
      "display_name": "Python 3"
    },
    "language_info": {
      "name": "python"
    }
  },
  "cells": [
    {
      "cell_type": "markdown",
      "source": [
        "#LeetCode 225 Implement Queue Using Stacks"
      ],
      "metadata": {
        "id": "iTKOh9U0WR8v"
      }
    },
    {
      "cell_type": "code",
      "source": [
        "class MyStack(object):\n",
        "\n",
        "    def __init__(self):\n",
        "        self.q1 = deque()\n",
        "        self.q2 = deque()\n",
        "\n",
        "    def push(self, x):\n",
        "        self.q2.append(x)\n",
        "        while self.q1:\n",
        "            self.q2.append(self.q1.popleft())\n",
        "        self.q1, self.q2 = self.q2, self.q1\n",
        "\n",
        "    def pop(self):\n",
        "        return self.q1.popleft()\n",
        "\n",
        "    def top(self):\n",
        "        return self.q1[0]\n",
        "\n",
        "    def empty(self):\n",
        "        return not self.q1"
      ],
      "metadata": {
        "id": "iY2L9vJAWPrx"
      },
      "execution_count": null,
      "outputs": []
    },
    {
      "cell_type": "markdown",
      "source": [
        "#LeetCode 232 Implement Queue Using Stacks"
      ],
      "metadata": {
        "id": "Z7e81UCYWJPn"
      }
    },
    {
      "cell_type": "code",
      "source": [
        "class MyQueue(object):\n",
        "\n",
        "    def __init__(self):\n",
        "        self.stack_in = []\n",
        "        self.stack_out = []\n",
        "\n",
        "    def push(self, x):\n",
        "        self.stack_in.append(x)\n",
        "\n",
        "    def pop(self):\n",
        "        self._transfer()\n",
        "        return self.stack_out.pop()\n",
        "\n",
        "    def peek(self):\n",
        "        self._transfer()\n",
        "        return self.stack_out[-1]\n",
        "\n",
        "    def empty(self):\n",
        "        return not self.stack_in and not self.stack_out\n",
        "\n",
        "    def _transfer(self):\n",
        "        if not self.stack_out:\n",
        "            while self.stack_in:\n",
        "                self.stack_out.append(self.stack_in.pop())"
      ],
      "metadata": {
        "id": "r8exUaMWWIz2"
      },
      "execution_count": null,
      "outputs": []
    },
    {
      "cell_type": "markdown",
      "source": [
        "#DataSturucture_Queue 문제 1\n",
        "\n",
        "본문에서 파이썬 내장 리스트를 사용하는 큐를 구현할 때 리스트의 맨 앞을 큐의 front로, 리스트의 맨 끝을 큐의 tail로 간주했다. 반대로 리스트의 맨 끝을 큐의 front로, 리스트의 맨 앞을 큐의 tail로 간주하여 다음 listQueue.py 코드를 바꾸어보시오."
      ],
      "metadata": {
        "id": "1YFL4m80WIHR"
      }
    },
    {
      "cell_type": "code",
      "source": [
        "\n",
        "class ListQueue:\n",
        "    def __init__(self):\n",
        "        self.__queue = []\n",
        "\n",
        "    def enqueue(self, x):\n",
        "        self.__queue.insert(0, x)\n",
        "\n",
        "    def dequeue(self):\n",
        "        return self.__queue.pop()\n",
        "\n",
        "    def front(self):\n",
        "        return self.__queue[-1]\n",
        "\n",
        "    def isEmpty(self) -> bool:\n",
        "        return len(self.__queue) == 0\n",
        "\n",
        "    def dequeueAll(self):\n",
        "        self.__queue.clear()"
      ],
      "metadata": {
        "id": "UmYm4qVuWKvC"
      },
      "execution_count": null,
      "outputs": []
    },
    {
      "cell_type": "markdown",
      "source": [
        "#DataSturucture_Queue 문제 2\n",
        "\n",
        "입력으로 들어온 문자열이 다음 집합의 원소인지 체크하는 코드를 큐를 이용해서 작성하시오."
      ],
      "metadata": {
        "id": "260SHLwnWwvj"
      }
    },
    {
      "cell_type": "code",
      "source": [
        "from collections import deque\n",
        "\n",
        "def check_w_dollar_w(s):\n",
        "    q = deque()\n",
        "    i = 0\n",
        "    n = len(s)\n",
        "\n",
        "    while i < n and s[i] != '$':\n",
        "        q.append(s[i])\n",
        "        i += 1\n",
        "\n",
        "    if i == n or s[i] != '$':\n",
        "        return False\n",
        "\n",
        "    while i < n:\n",
        "        if not q or s[i] != q.popleft():\n",
        "            return False\n",
        "        i += 1\n",
        "\n",
        "    return len(q) == 0\n",
        "\n",
        "s = input(\"\")\n",
        "\n",
        "if check_w_dollar_w(s):\n",
        "    print(\"{ w$w | w : 문자열 }\")\n",
        "else:\n",
        "    print(\"{ w$w | w : 문자열 }이 아님\")"
      ],
      "metadata": {
        "id": "y0lEwHeqW1Li"
      },
      "execution_count": null,
      "outputs": []
    },
    {
      "cell_type": "markdown",
      "source": [
        "#DataSturucture_Queue 문제 3\n",
        "\n",
        "LinkedQueue 타입의 객체 a의 내용을 그대로 또 다른 LinkedQueue 타입의 객체 b로 복사하는 코드를 작성하시오. (a의 레퍼런스 값을 b로 복사해 두 변수가 같은 레퍼런스를 가져 내용이 같아지게 하라는 것이 아니라 내용이 같아지도록 복사를 요구하는 것이다.)"
      ],
      "metadata": {
        "id": "u8aT7ks-W5Sv"
      }
    },
    {
      "cell_type": "code",
      "source": [
        "class Node:\n",
        "    def __init__(self, item, link=None):\n",
        "        self.item = item\n",
        "        self.link = link\n",
        "\n",
        "class LinkedQueue:\n",
        "    def __init__(self):\n",
        "        self.front = None\n",
        "        self.rear = None\n",
        "\n",
        "    def isEmpty(self):\n",
        "        return self.front is None\n",
        "\n",
        "    def enqueue(self, item):\n",
        "        newNode = Node(item)\n",
        "        if self.isEmpty():\n",
        "            self.front = self.rear = newNode\n",
        "        else:\n",
        "            self.rear.link = newNode\n",
        "            self.rear = newNode\n",
        "\n",
        "    def dequeue(self):\n",
        "        if self.isEmpty():\n",
        "            raise Exception(\"Queue is empty\")\n",
        "        item = self.front.item\n",
        "        self.front = self.front.link\n",
        "        if self.front is None:\n",
        "            self.rear = None\n",
        "        return item\n",
        "\n",
        "    def peek(self):\n",
        "        if self.isEmpty():\n",
        "            raise Exception(\"Queue is empty\")\n",
        "        return self.front.item\n",
        "\n",
        "    def __iter__(self):\n",
        "        current = self.front\n",
        "        while current:\n",
        "            yield current.item\n",
        "            current = current.link\n",
        "\n",
        "def copy_queue(a):\n",
        "    temp = []\n",
        "\n",
        "    while not a.isEmpty():\n",
        "        item = a.dequeue()\n",
        "        temp.append(item)\n",
        "        LinkedQueue().enqueue(item)\n",
        "\n",
        "    for item in temp:\n",
        "        a.enqueue(item)\n",
        "\n",
        "    return LinkedQueue()"
      ],
      "metadata": {
        "id": "PZnkE7x-W5gU"
      },
      "execution_count": null,
      "outputs": []
    },
    {
      "cell_type": "markdown",
      "source": [
        "#DataSturucture_Queue 문제 4\n",
        "\n",
        "스택 push"
      ],
      "metadata": {
        "id": "HfypDEWKXGIL"
      }
    },
    {
      "cell_type": "code",
      "source": [
        "def push(x):\n",
        "    q1.enqueue(x)"
      ],
      "metadata": {
        "id": "gYk3zGDHXMS3"
      },
      "execution_count": null,
      "outputs": []
    },
    {
      "cell_type": "markdown",
      "source": [
        "스택 pop"
      ],
      "metadata": {
        "id": "71qEOpk1XMpp"
      }
    },
    {
      "cell_type": "code",
      "source": [
        "def pop():\n",
        "    while q1.size() > 1:\n",
        "        q2.enqueue(q1.dequeue())\n",
        "\n",
        "    top = q1.dequeue()\n",
        "\n",
        "    q1, q2 = q2, q1\n",
        "\n",
        "    return top\n",
        ""
      ],
      "metadata": {
        "id": "_bnLY9Q4XOZ5"
      },
      "execution_count": null,
      "outputs": []
    },
    {
      "cell_type": "markdown",
      "source": [
        "#DataSturucture_Queue 문제 5\n",
        "\n",
        "큐 enqueue()"
      ],
      "metadata": {
        "id": "j7bui4DNXT_U"
      }
    },
    {
      "cell_type": "code",
      "source": [
        "def enqueue(x):\n",
        "    while not s1.isEmpty():\n",
        "        s2.push(s1.pop())\n",
        "\n",
        "    s1.push(x)\n",
        "\n",
        "    while not s2.isEmpty():\n",
        "        s1.push(s2.pop())"
      ],
      "metadata": {
        "id": "L2q_kHvFXYb2"
      },
      "execution_count": null,
      "outputs": []
    },
    {
      "cell_type": "markdown",
      "source": [
        "큐 dequeue()"
      ],
      "metadata": {
        "id": "iYrtosUTXacz"
      }
    },
    {
      "cell_type": "code",
      "source": [
        "def dequeue():\n",
        "    if s1.isEmpty():\n",
        "        raise Exception(\"Queue is empty\")\n",
        "    return s1.pop()"
      ],
      "metadata": {
        "id": "Y08nmHxwXcH-"
      },
      "execution_count": null,
      "outputs": []
    },
    {
      "cell_type": "markdown",
      "source": [
        "#DataSturucture_Queue 문제 6\n",
        "\n",
        "이 장에서 배운 큐에서 enqueue()는 항상 큐의 맨 뒤에, dequeue()는 항상 큐의 맨 앞에서 이루어진다. Deque는 이의 변형으로 enqueue()와 dequeue()가 큐의 맨 앞과 맨뒤에서 다 가능하다. 코드[7-13]의 클래스 환경에서 이를 가장 효율적으로 구현한다고 하자. 큐의 사이즈가 n일때, enqueue()와 dequeue()의 수행 시간은 각각 어떻게 되겠는가?"
      ],
      "metadata": {
        "id": "PPHBh3SaXeV2"
      }
    },
    {
      "cell_type": "markdown",
      "source": [
        "enqueue()수행시간\n",
        "O(1)\n",
        "\n",
        "dequeue()수행시간\n",
        "O(1)"
      ],
      "metadata": {
        "id": "lw5CTlSjXmNm"
      }
    },
    {
      "cell_type": "markdown",
      "source": [
        "#DataSturucture_Queue 문제 7\n",
        "\n",
        "위의 문제에서 deque를 원형 연결 리스트가 아닌 LinkedListBasic 객체를 사용한다면 enqueue()와 dequeue()의 수행 시간은 각각 어떻게 되겠는가?"
      ],
      "metadata": {
        "id": "oPosMEWiXoaL"
      }
    },
    {
      "cell_type": "markdown",
      "source": [
        "enqueue()수행시간\n",
        "enqueueFront() O(1) enqueueRear() O(n)\n",
        "\n",
        "dequeue()수행시간\n",
        "dequeueFront() O(1) dequeueRear() O(n)"
      ],
      "metadata": {
        "id": "7rneWxhOXut3"
      }
    },
    {
      "cell_type": "markdown",
      "source": [
        "#DataSturucture_Queue 문제 8\n",
        "\n",
        "다음은 클래스 ListQueue의 파이썬 코드다. 이를 06번 문제의 자료구조 Deque를 구현하는 클래스 Deque로 바꾸어 보시오. 필요한 메서드를 추가하시오.\n",
        "\n",
        "\n"
      ],
      "metadata": {
        "id": "iF5fsyOCApDJ"
      }
    },
    {
      "cell_type": "code",
      "source": [
        "class Deque:\n",
        "    def __init__(self):\n",
        "        self.__deque = []\n",
        "\n",
        "    def addFront(self, x):\n",
        "        self.__deque.insert(0, x)\n",
        "\n",
        "    def addRear(self, x):\n",
        "        self.__deque.append(x)\n",
        "\n",
        "    def deleteFront(self):\n",
        "        if self.isEmpty():\n",
        "            return None\n",
        "        return self.__deque.pop(0)\n",
        "\n",
        "    def deleteRear(self):\n",
        "        if self.isEmpty():\n",
        "            return None\n",
        "        return self.__deque.pop()\n",
        "\n",
        "    def getFront(self):\n",
        "        if self.isEmpty():\n",
        "            return None\n",
        "        return self.__deque[0]\n",
        "\n",
        "    def getRear(self):\n",
        "        if self.isEmpty():\n",
        "            return None\n",
        "        return self.__deque[-1]\n",
        "\n",
        "    def isEmpty(self) -> bool:\n",
        "        return len(self.__deque) == 0\n",
        "\n",
        "    def clear(self):\n",
        "        self.__deque.clear()\n",
        "\n",
        "    def printDeque(self):\n",
        "        print(\"Deque from front: \", end=' ')\n",
        "        for item in self.__deque:\n",
        "            print(item, end=' ')\n",
        "        print()"
      ],
      "metadata": {
        "id": "voF65oqGJuTI"
      },
      "execution_count": null,
      "outputs": []
    }
  ]
}